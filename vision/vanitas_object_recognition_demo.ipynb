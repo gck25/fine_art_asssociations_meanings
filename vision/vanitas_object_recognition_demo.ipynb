{
 "cells": [
  {
   "cell_type": "markdown",
   "id": "3961506c",
   "metadata": {},
   "source": [
    "## Vanitas Object Recognition Demo\n"
   ]
  },
  {
   "cell_type": "code",
   "execution_count": 14,
   "id": "56964be0",
   "metadata": {},
   "outputs": [],
   "source": [
    "# Root directory of the project\n",
    "ROOT_DIR = os.path.abspath(\"../\")\n",
    "\n",
    "import os\n",
    "\n",
    "from vanitas_utils import VanitasDataset, VanitasConfig"
   ]
  },
  {
   "cell_type": "code",
   "execution_count": 15,
   "id": "4809f5ad",
   "metadata": {},
   "outputs": [
    {
     "name": "stdout",
     "output_type": "stream",
     "text": [
      "Image Count: 50\n",
      "Class Count: 4\n",
      "  0. BG                                                \n",
      "  1. key                                               \n",
      "  2. cross                                             \n",
      "  3. winged_lion                                       \n"
     ]
    }
   ],
   "source": [
    "    # Load dataset\n",
    "    # Get the dataset from the releases page\n",
    "    # https://github.com/matterport/Mask_RCNN/releases\n",
    "    dataset = VanitasDataset()\n",
    "    VANITAS_DIR = os.path.join(ROOT_DIR, \"data/vanitas_json\")\n",
    "    dataset.load_vanitas(VANITAS_DIR, \"train\")\n",
    "\n",
    "    # Must call before using the dataset\n",
    "    dataset.prepare()\n",
    "\n",
    "    print(\"Image Count: {}\".format(len(dataset.image_ids)))\n",
    "    print(\"Class Count: {}\".format(dataset.num_classes))\n",
    "    for i, info in enumerate(dataset.class_info):\n",
    "        print(\"{:3}. {:50}\".format(i, info['name']))"
   ]
  },
  {
   "cell_type": "code",
   "execution_count": null,
   "id": "65a01541",
   "metadata": {},
   "outputs": [],
   "source": []
  }
 ],
 "metadata": {
  "kernelspec": {
   "display_name": "Python 3",
   "language": "python",
   "name": "python3"
  },
  "language_info": {
   "codemirror_mode": {
    "name": "ipython",
    "version": 3
   },
   "file_extension": ".py",
   "mimetype": "text/x-python",
   "name": "python",
   "nbconvert_exporter": "python",
   "pygments_lexer": "ipython3",
   "version": "3.8.0"
  }
 },
 "nbformat": 4,
 "nbformat_minor": 5
}
