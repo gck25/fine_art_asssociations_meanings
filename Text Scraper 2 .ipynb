{
 "cells": [
  {
   "cell_type": "code",
   "execution_count": 15,
   "metadata": {},
   "outputs": [],
   "source": [
    "import requests\n",
    "import urllib\n",
    "import pandas as pd\n",
    "from requests_html import HTML\n",
    "from requests_html import HTMLSession\n",
    "import html2text\n",
    "\n",
    "h = html2text.HTML2Text()\n",
    "h.ignore_links = True"
   ]
  },
  {
   "cell_type": "code",
   "execution_count": 6,
   "metadata": {},
   "outputs": [],
   "source": [
    "def get_source(url):\n",
    "    \"\"\"Return the source code for the provided URL. \n",
    "\n",
    "    Args: \n",
    "        url (string): URL of the page to scrape.\n",
    "\n",
    "    Returns:\n",
    "        response (object): HTTP response object from requests_html. \n",
    "    \"\"\"\n",
    "\n",
    "    try:\n",
    "        session = HTMLSession()\n",
    "        response = session.get(url)\n",
    "        return response\n",
    "\n",
    "    except requests.exceptions.RequestException as e:\n",
    "        print(e)"
   ]
  },
  {
   "cell_type": "code",
   "execution_count": null,
   "metadata": {
    "collapsed": true
   },
   "outputs": [],
   "source": [
    "def scrape_google(query):\n",
    "\n",
    "    query = urllib.parse.quote_plus(query)\n",
    "    response = get_source(\"https://www.google.co.uk/search?q=\" + query)\n",
    "\n",
    "    links = list(response.html.absolute_links)\n",
    "    google_domains = ('https://www.google.', \n",
    "                      'https://google.', \n",
    "                      'https://webcache.googleusercontent.', \n",
    "                      'http://webcache.googleusercontent.', \n",
    "                      'https://policies.google.',\n",
    "                      'https://support.google.',\n",
    "                      'https://maps.google.')\n",
    "\n",
    "    for url in links[:]:\n",
    "        if url.startswith(google_domains):\n",
    "            links.remove(url)\n",
    "\n",
    "    return links"
   ]
  },
  {
   "cell_type": "code",
   "execution_count": 8,
   "metadata": {
    "collapsed": true
   },
   "outputs": [],
   "source": [
    "def get_results(query):\n",
    "    \n",
    "    query = urllib.parse.quote_plus(query)\n",
    "    response = get_source(\"https://www.google.co.uk/search?q=\" + query)\n",
    "    \n",
    "    return response"
   ]
  },
  {
   "cell_type": "code",
   "execution_count": 9,
   "metadata": {
    "collapsed": true
   },
   "outputs": [],
   "source": [
    "def parse_results(response):\n",
    "    \n",
    "    css_identifier_result = \".tF2Cxc\"\n",
    "    css_identifier_title = \"h3\"\n",
    "    css_identifier_link = \".yuRUbf a\"\n",
    "    css_identifier_text = \".IsZvec\"\n",
    "    \n",
    "    results = response.html.find(css_identifier_result)\n",
    "\n",
    "    output = []\n",
    "    \n",
    "    for result in results:\n",
    "\n",
    "        item = {\n",
    "            'title': result.find(css_identifier_title, first=True).text,\n",
    "            'link': result.find(css_identifier_link, first=True).attrs['href'],\n",
    "            'text': result.find(css_identifier_text, first=True).text\n",
    "        }\n",
    "        \n",
    "        output.append(item)\n",
    "        \n",
    "    return output"
   ]
  },
  {
   "cell_type": "code",
   "execution_count": 10,
   "metadata": {
    "collapsed": true
   },
   "outputs": [],
   "source": [
    "def google_search(query):\n",
    "    response = get_results(query)\n",
    "    return parse_results(response)"
   ]
  },
  {
   "cell_type": "code",
   "execution_count": 16,
   "metadata": {},
   "outputs": [
    {
     "data": {
      "text/plain": [
       "[{'title': 'Vanitas - Wikipedia',\n",
       "  'link': 'https://en.wikipedia.org/wiki/Vanitas',\n",
       "  'text': \"The Latin noun vanitas (from the Latin adjective vanus 'empty') means 'emptiness' , 'futility', or 'worthlessness', the traditional Christian view being that earthly\\xa0...\\n\\u200eThemes · \\u200eMotifs · \\u200eOutside visual art · \\u200eIn modern times\"},\n",
       " {'title': 'Vanitas – Art Term | Tate',\n",
       "  'link': 'https://www.tate.org.uk/art/art-terms/v/vanitas',\n",
       "  'text': 'Tate glossary definition for vanitas: A still life artwork which includes various symbolic objects designed to remind the viewer of their mortality and of the\\xa0...'},\n",
       " {'title': 'vanitas | Definition, Painters, & Facts | Britannica',\n",
       "  'link': 'https://www.britannica.com/art/vanitas-art',\n",
       "  'text': 'Vanitas, in art, a genre of still-life painting that flourished in the Netherlands in the early 17th century. A vanitas painting contains collections of objects symbolic\\xa0...'},\n",
       " {'title': 'Vanitas definition and meaning | Collins English Dictionary',\n",
       "  'link': 'https://www.collinsdictionary.com/dictionary/english/vanitas',\n",
       "  'text': 'Vanitas definition: an art work featuring symbols of change or mortality as a reminder of their... | Meaning, pronunciation, translations and examples.'},\n",
       " {'title': 'An Introduction to Vanitas Paintings - ThoughtCo',\n",
       "  'link': 'https://www.thoughtco.com/vanitas-painting-definition-183179',\n",
       "  'text': '17 Oct 2019 — The word vanitas is Latin for \"vanity\" and that is the idea behind a vanitas painting. They were created to remind us that our vanity or material\\xa0...'},\n",
       " {'title': 'What is Vanitas? An art term defined - Xamou Art',\n",
       "  'link': 'https://www.xamou-art.com/word/vanitas/',\n",
       "  'text': 'Vanitas. A type of symbolic work of art which was very popular in Flanders and the Netherlands in the 16th and 17th centuries. However, Vanitas\\xa0...'},\n",
       " {'title': 'Vanitas Meaning | Best 5 Definitions of Vanitas - YourDictionary',\n",
       "  'link': 'https://www.yourdictionary.com/vanitas',\n",
       "  'text': 'Vanitas meaning · Vanitas is vanity, or a piece of art that reminds people of mortality and that material things are temporary. · Vanity; futility. · A work of art containing\\xa0...'},\n",
       " {'title': 'Vanitas | Glossary | National Gallery, London',\n",
       "  'link': 'https://www.nationalgallery.org.uk/paintings/glossary/vanitas',\n",
       "  'text': 'The implication of these words from the Old Testament is that all human action is transient in contrast to the everlasting nature of faith. A vanitas is a particular type \\xa0...'},\n",
       " {'title': 'Inspiration – Vanitas Painting and the Symbolism of Objects ...',\n",
       "  'link': 'https://alicefryart.wordpress.com/2016/11/16/inspiration-vanitas-painting-and-the-symbolism-of-objects/',\n",
       "  'text': '16 Nov 2016 — Here are some of my findings on what different aspects of Vanitas paintings mean: Skull – The fragility of life and the inevitability of mortality.'},\n",
       " {'title': 'What does vanitas mean? - Definitions.net',\n",
       "  'link': 'https://www.definitions.net/definition/vanitas',\n",
       "  'text': 'The Latin word means \"vanity\" and loosely translated corresponds to the meaninglessness of earthly life and the transient nature of all earthly goods and pursuits.'}]"
      ]
     },
     "execution_count": 16,
     "metadata": {},
     "output_type": "execute_result"
    }
   ],
   "source": [
    "results = google_search(\"vanitas meaning\")\n",
    "results"
   ]
  },
  {
   "cell_type": "code",
   "execution_count": 14,
   "metadata": {},
   "outputs": [
    {
     "data": {
      "text/plain": [
       "\"The Latin noun vanitas (from the Latin adjective vanus 'empty') means 'emptiness' , 'futility', or 'worthlessness', the traditional Christian view being that earthly\\xa0...\\n\\u200eThemes · \\u200eMotifs · \\u200eOutside visual art · \\u200eIn modern times\""
      ]
     },
     "execution_count": 14,
     "metadata": {},
     "output_type": "execute_result"
    }
   ],
   "source": [
    "results[0]['text']"
   ]
  },
  {
   "cell_type": "code",
   "execution_count": null,
   "metadata": {
    "collapsed": true
   },
   "outputs": [],
   "source": []
  }
 ],
 "metadata": {
  "kernelspec": {
   "display_name": "fin_art_project",
   "language": "python",
   "name": "fin_art_project"
  },
  "language_info": {
   "codemirror_mode": {
    "name": "ipython",
    "version": 3
   },
   "file_extension": ".py",
   "mimetype": "text/x-python",
   "name": "python",
   "nbconvert_exporter": "python",
   "pygments_lexer": "ipython3",
   "version": "3.6.13"
  }
 },
 "nbformat": 4,
 "nbformat_minor": 2
}
