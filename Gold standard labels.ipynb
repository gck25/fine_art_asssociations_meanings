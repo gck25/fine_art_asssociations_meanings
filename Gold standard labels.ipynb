{
 "cells": [
  {
   "cell_type": "code",
   "execution_count": 3,
   "metadata": {
    "collapsed": true
   },
   "outputs": [],
   "source": [
    "import pickle as pkl"
   ]
  },
  {
   "cell_type": "code",
   "execution_count": 2,
   "metadata": {},
   "outputs": [],
   "source": [
    "# use WordNet to find synonyms, semantic similarity in order to assess whether a match occurs.  K=3, if meaning in KG\n",
    "# is in top 3 for test set, it is a match.\n",
    "# final deadline for this is 21st August.\n",
    "# email the list to David, find top K responses \n",
    "\n",
    "gold_standard = {\n",
    "    'generic': {\n",
    "        'skull': ['fragility of life', 'inevitability of mortality', 'passage of time', 'inevitability of death',\n",
    "                 'achievements', 'egotism of life', 'transience of mankind', 'transience of earthly pursuits', 'death',\n",
    "                 'futility of worldly pursuits'],\n",
    "        'fruit': ['aging', 'passing of time', 'fertility', 'wealth', 'fall of man', 'eroticism', 'truth', 'salvation',\n",
    "                 'wisdom', 'original sin', 'brevity of life', 'decay'],\n",
    "        'watch': ['transience', 'limitation of time', 'passage of time', 'inevitability of death', 'achievements', \n",
    "                  'death', 'time', 'brevity of life', 'passing of life'],\n",
    "        'hourglass': ['transience', 'limitation of time', 'inevitability of death', 'death', 'time', 'brevity of life'],\n",
    "        'books': ['human curiosity', 'knowledge', 'death', 'enjoyment', 'luxuries of life', 'arts and sciences'],\n",
    "        'shells': ['exoticism', 'wealth', 'vanity', 'uncouth ostentatiousness', 'lust', 'beauty', 'death', 'frailty',\n",
    "                  'birth', 'fertility'],\n",
    "        'flowers': ['decay of the body', 'inevitable mortality of human nature', 'love', 'sensuality', 'vanity', 'sex',\n",
    "                   'mortal sin', 'laziness', 'irresponsibility', 'naivety', 'foolishness', 'death', 'passing of time',\n",
    "                   'transience', 'death', 'transience', 'death','brevity of life'],\n",
    "        'candle': ['human soul', 'transience of life', 'passage of time', 'inevitability of death', 'weakness', 'achievements',\n",
    "                  'death', 'brevity of life'],\n",
    "        'lamp': ['human soul', 'transience of life', 'passing of life'],\n",
    "        'glass': ['death', 'fragility', 'sexuality', 'male eroticim', 'earthly pleasures'],\n",
    "        'coins': ['wealth', 'power', 'luxuries of life'],\n",
    "        'violin': ['brevity of life', 'arts and sciences'],\n",
    "        'lute': ['brevity of life', 'arts and sciences'], \n",
    "        'flute': ['brevity of life', 'arts and sciences'],\n",
    "        'bubble': ['transience', 'death', 'brevity of life']\n",
    "        \n",
    "               },\n",
    "    'fed306f057.jpg': {\n",
    "        'glass': ['briefness of worldly pleasures', 'brevity of life'],\n",
    "        'candle': ['briefness of worldly pleasures'],\n",
    "        'skull': ['briefness of worldly pleasures']\n",
    "    },\n",
    "    '2424027234.jpg': {\n",
    "        'skull': ['death'],\n",
    "        'shell': ['birth'],\n",
    "        'books': ['knowledge'],\n",
    "    },\n",
    "    '8862bd2fb0.jpg': {\n",
    "        'skull': ['transience', 'doom'],\n",
    "        'flowers': ['transience', 'doom'],\n",
    "        'hourglass': ['transience', 'doom']\n",
    "    },\n",
    "    'a964dd4aef.jpg': {\n",
    "        'skull': ['death'],\n",
    "        'watch': ['passing of life'],\n",
    "        'candle': ['passing of life'],\n",
    "        'shell': ['wealth', 'fertility'],\n",
    "        'books': ['human knowledge'],\n",
    "        'flute': ['luxury', 'indulgence']\n",
    "    },\n",
    "    '2424133048.jpg': {\n",
    "        'skull': ['brevity of life'],\n",
    "        'bubble': ['brevity of life'],\n",
    "        'flowers': ['brevity of life']\n",
    "        \n",
    "    },\n",
    "    # due to placement of objects\n",
    "    '8d4205809e.jpg': ['randomness chaos'],\n",
    "    'd6c400594b.jpg': {\n",
    "        'hourglass': ['passing of time', 'brevity of life'],\n",
    "        'bubble': ['passing of time', 'brevity of life'],\n",
    "        'candle': ['passing of time', 'brevity of life'],\n",
    "        'lute': ['earthly distractions'],\n",
    "        'flute': ['earthly distractions'],\n",
    "        'skull': ['transience', 'mortality'],\n",
    "        'shells': ['wealth'],\n",
    "        'flowers': ['wealth'],\n",
    "#         'gold chain': ['wealth']\n",
    "    },\n",
    "    'c61e32741c.jpg': {\n",
    "        'skull': ['fragility of life'],\n",
    "        'bubble': ['fragility of life'],\n",
    "        'candle': ['fragility of life'],\n",
    "        'flowers': ['fragility of life'],\n",
    "        'vase': ['fragility of life'],\n",
    "        'watch': ['passing of time', 'approach of final reckoning'],\n",
    "        'books': ['futility of intellectual pursuits'],\n",
    "        'crown': ['fleeting nature of temporal power']\n",
    "    }\n",
    "}"
   ]
  },
  {
   "cell_type": "code",
   "execution_count": null,
   "metadata": {
    "collapsed": true
   },
   "outputs": [],
   "source": []
  },
  {
   "cell_type": "code",
   "execution_count": 6,
   "metadata": {},
   "outputs": [],
   "source": [
    "with open('data/gold_standard.pkl', 'wb') as f:\n",
    "    pkl.dump(gold_standard, f)"
   ]
  },
  {
   "cell_type": "code",
   "execution_count": null,
   "metadata": {
    "collapsed": true
   },
   "outputs": [],
   "source": []
  }
 ],
 "metadata": {
  "kernelspec": {
   "display_name": "fin_art_project",
   "language": "python",
   "name": "fin_art_project"
  },
  "language_info": {
   "codemirror_mode": {
    "name": "ipython",
    "version": 3
   },
   "file_extension": ".py",
   "mimetype": "text/x-python",
   "name": "python",
   "nbconvert_exporter": "python",
   "pygments_lexer": "ipython3",
   "version": "3.6.13"
  }
 },
 "nbformat": 4,
 "nbformat_minor": 2
}
